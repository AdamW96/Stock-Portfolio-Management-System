{
 "cells": [
  {
   "cell_type": "code",
   "execution_count": 138,
   "id": "e9411db7",
   "metadata": {},
   "outputs": [],
   "source": [
    "import tushare as ts\n",
    "import pandas as pd\n",
    "import sqlite3\n",
    "from datetime import datetime\n",
    "from datetime import timedelta\n",
    "import sys\n",
    "import time"
   ]
  },
  {
   "cell_type": "code",
   "execution_count": 3,
   "id": "6b654003",
   "metadata": {},
   "outputs": [],
   "source": [
    "pro = ts.pro_api('881ddd8e044ca6f5ca1fb55dd720ec177fc1501af9aac377c79ce053')"
   ]
  },
  {
   "cell_type": "code",
   "execution_count": 5,
   "id": "dd11dbfb",
   "metadata": {},
   "outputs": [],
   "source": [
    "df = pro.stock_basic(**{\n",
    "    \"ts_code\": \"\",\n",
    "    \"name\": \"\",\n",
    "    \"exchange\": \"\",\n",
    "    \"market\": \"\",\n",
    "    \"is_hs\": \"\",\n",
    "    \"list_status\": \"\",\n",
    "    \"limit\": \"\",\n",
    "    \"offset\": \"\"\n",
    "}, fields=[\n",
    "    \"ts_code\",\n",
    "    \"symbol\",\n",
    "    \"name\",\n",
    "    \"area\",\n",
    "    \"industry\",\n",
    "    \"market\",\n",
    "    \"list_date\",\n",
    "    \"curr_type\",\n",
    "    \"exchange\",\n",
    "    \"enname\",\n",
    "    \"fullname\"\n",
    "])        "
   ]
  },
  {
   "cell_type": "code",
   "execution_count": 64,
   "id": "c754cefc",
   "metadata": {},
   "outputs": [
    {
     "name": "stdout",
     "output_type": "stream",
     "text": [
      "Opened database successfully\n"
     ]
    }
   ],
   "source": [
    "conn = sqlite3.connect('../9900-test-db.sqlite')\n",
    "\n",
    "for i in range(len(df)):\n",
    "    data = df.iloc[i]\n",
    "    day = datetime.strptime(data['list_date'], '%Y%m%d').strftime('%Y-%m-%d')\n",
    "\n",
    "    insert_sql = \"INSERT INTO stock_info\\\n",
    "    (ts_code, symbol, name, area, industry, fullname, enname, market, exchange, list_date) VALUES\\\n",
    "    (?, ?, ?, ?, ?, ?, ?, ?, ?, ?);\"\n",
    "    \n",
    "    insert_data = (\n",
    "        data['ts_code'], data['symbol'],data['name'],data['area'],\n",
    "        data['industry'],data['fullname'],data['enname'], data['market'],\n",
    "        data['exchange'],day\n",
    "    )\n",
    "    \n",
    "    try:\n",
    "        cur = conn.cursor()\n",
    "        cur.execute(insert_sql, insert_data)\n",
    "        conn.commit()\n",
    "    except sqlite3.IntegrityError:\n",
    "        pass\n",
    "    except:\n",
    "        print(\"Unexpected error when insert %s:\",data.values, sys.exc_info())\n",
    "        \n",
    "conn.close()"
   ]
  },
  {
   "cell_type": "code",
   "execution_count": 161,
   "id": "d5d00b19",
   "metadata": {},
   "outputs": [],
   "source": [
    "def get_stock_info():\n",
    "    stock_info= {}\n",
    "    conn = sqlite3.connect('../9900-test-db.sqlite')\n",
    "    \n",
    "    select_sql = \"select sid, ts_code from stock_info;\"\n",
    "    cur = conn.cursor()\n",
    "    cur.execute(select_sql)\n",
    "    for result in cur:\n",
    "        stock_info[result[0]] = {\"ts_code\": result[1]}\n",
    "\n",
    "    conn.close()\n",
    "    \n",
    "    return stock_info\n",
    "\n",
    "stock_info = get_ts_code_list()"
   ]
  },
  {
   "cell_type": "code",
   "execution_count": 162,
   "id": "71e0fff2",
   "metadata": {},
   "outputs": [],
   "source": [
    "def get_stock_info_by_ts_code():\n",
    "    stock_info_by_ts_code= {}\n",
    "    conn = sqlite3.connect('../9900-test-db.sqlite')\n",
    "\n",
    "    select_sql = \"select sid, ts_code from stock_info;\"\n",
    "    cur = conn.cursor()\n",
    "    cur.execute(select_sql)\n",
    "    for result in cur:\n",
    "        stock_info_by_ts_code[result[1]] = {\"sid\": result[0]}\n",
    "\n",
    "    conn.close()\n",
    "\n",
    "    return stock_info_by_ts_code\n",
    "\n",
    "stock_info_by_ts_code = get_stock_info_by_ts_code()"
   ]
  },
  {
   "cell_type": "code",
   "execution_count": 180,
   "id": "c9e2996b",
   "metadata": {},
   "outputs": [],
   "source": [
    "def save_trade_df(df):\n",
    "    conn = sqlite3.connect('../9900-test-db.sqlite')\n",
    "\n",
    "    for i in range(len(df)):\n",
    "        data = df.iloc[i]\n",
    "        trade_date = datetime.strptime(data['trade_date'], '%Y%m%d').strftime('%Y-%m-%d')\n",
    "        \n",
    "        if data['ts_code'] not in stock_info_by_ts_code:\n",
    "            continue\n",
    "            \n",
    "\n",
    "        insert_sql = \"INSERT INTO market_history (sid, open_price, highest_price,\\\n",
    "        lowest_price, closed_price, turnover_vol, trade_date)\\\n",
    "        VALUES (?, ?, ?, ?, ?, ?, ?)\"\n",
    "\n",
    "        sid = stock_info_by_ts_code[data['ts_code']]['sid']\n",
    "        insert_data = (sid, data['open'], data['high'], data['low'], data['close'], data['vol'] ,trade_date)\n",
    "\n",
    "        try:\n",
    "            cur = conn.cursor()\n",
    "            cur.execute(insert_sql, insert_data)\n",
    "            conn.commit()\n",
    "        except sqlite3.IntegrityError:\n",
    "            pass\n",
    "        except:\n",
    "            print(\"Unexpected error when insert %s:\",data.values, sys.exc_info())\n",
    "\n",
    "    conn.close()"
   ]
  },
  {
   "cell_type": "code",
   "execution_count": 234,
   "id": "1e1c37f3",
   "metadata": {},
   "outputs": [],
   "source": [
    "def get_market_trade_date_list(start_date):\n",
    "    cal = pro.trade_cal(exchange='', start_date=start_date)\n",
    "\n",
    "    trade_date = []\n",
    "    for i in range(len(cal)):\n",
    "        if cal.iloc[i]['is_open']:\n",
    "            date = datetime.strptime(cal.iloc[i]['cal_date'], '%Y%m%d').strftime('%Y-%m-%d')\n",
    "            trade_date.append(date)\n",
    "            \n",
    "    return trade_date\n",
    "\n",
    "def get_not_record_date(sdate):\n",
    "    \n",
    "    compute_date_list = []\n",
    "    trade_date = get_market_trade_date_list(sdate)\n",
    "\n",
    "    conn = sqlite3.connect('../9900-test-db.sqlite')\n",
    "    select_sql = \"select trade_date from market_history group by trade_date\"\n",
    "    cur = conn.cursor()\n",
    "    cur.execute(select_sql)\n",
    "    data = [i[0] for i in cur]\n",
    "    conn.close()\n",
    "\n",
    "    start_date = datetime.strptime(sdate, '%Y%m%d')\n",
    "    date = start_date\n",
    "    while date < datetime.now():\n",
    "        date_str = date.strftime('%Y-%m-%d')\n",
    "        if date_str not in data and date_str in trade_date:\n",
    "            compute_date_list.append(date)\n",
    "\n",
    "        date += timedelta(days=1)\n",
    "\n",
    "    return compute_date_list"
   ]
  },
  {
   "cell_type": "code",
   "execution_count": 236,
   "id": "e561521a",
   "metadata": {},
   "outputs": [
    {
     "name": "stdout",
     "output_type": "stream",
     "text": [
      "finish save date = 20191203 trade_date, processing(1/21)\n"
     ]
    }
   ],
   "source": [
    "start_date_str = \"20191201\"\n",
    "date_list = get_not_record_date(start_date_str)\n",
    "count = 0\n",
    "total = len(date_list)\n",
    "for date in date_list[0:1]:\n",
    "    df = pro.daily(trade_date=date.strftime('%Y%m%d'))\n",
    "    save_trade_df(df)\n",
    "    count += 1\n",
    "    time.sleep(0.15)\n",
    "    print(\"finish save date = %s trade_date, processing(%s/%s)\" % (date.strftime('%Y%m%d'), count, total))"
   ]
  },
  {
   "cell_type": "code",
   "execution_count": 231,
   "id": "5cc96e1d",
   "metadata": {},
   "outputs": [],
   "source": []
  },
  {
   "cell_type": "code",
   "execution_count": 232,
   "id": "46b3f399",
   "metadata": {},
   "outputs": [],
   "source": [
    "trade_date = get_market_trade_date_list(start_date_str)"
   ]
  }
 ],
 "metadata": {
  "kernelspec": {
   "display_name": "Python 3 (ipykernel)",
   "language": "python",
   "name": "python3"
  },
  "language_info": {
   "codemirror_mode": {
    "name": "ipython",
    "version": 3
   },
   "file_extension": ".py",
   "mimetype": "text/x-python",
   "name": "python",
   "nbconvert_exporter": "python",
   "pygments_lexer": "ipython3",
   "version": "3.9.5"
  }
 },
 "nbformat": 4,
 "nbformat_minor": 5
}
